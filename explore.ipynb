{
 "metadata": {
  "language_info": {
   "codemirror_mode": {
    "name": "ipython",
    "version": 3
   },
   "file_extension": ".py",
   "mimetype": "text/x-python",
   "name": "python",
   "nbconvert_exporter": "python",
   "pygments_lexer": "ipython3",
   "version": "3.9.0-final"
  },
  "orig_nbformat": 2,
  "kernelspec": {
   "name": "python3",
   "display_name": "Python 3"
  }
 },
 "nbformat": 4,
 "nbformat_minor": 2,
 "cells": [
  {
   "source": [
    "# Exploration des des datasets"
   ],
   "cell_type": "markdown",
   "metadata": {}
  },
  {
   "cell_type": "code",
   "execution_count": 1,
   "metadata": {},
   "outputs": [],
   "source": [
    "import pandas as pd"
   ]
  },
  {
   "source": [
    "## Données hospitalières cumulées\n",
    "(cov.csv)"
   ],
   "cell_type": "markdown",
   "metadata": {}
  },
  {
   "cell_type": "code",
   "execution_count": 3,
   "metadata": {},
   "outputs": [],
   "source": [
    "cov = pd.read_csv(\"cov.csv\", sep=\";\")"
   ]
  },
  {
   "cell_type": "code",
   "execution_count": 4,
   "metadata": {},
   "outputs": [
    {
     "output_type": "execute_result",
     "data": {
      "text/plain": [
       "(78477, 7)"
      ]
     },
     "metadata": {},
     "execution_count": 4
    }
   ],
   "source": [
    "# Dimensions du dataset (lignes, colonnes)\n",
    "cov.shape"
   ]
  },
  {
   "cell_type": "code",
   "execution_count": 6,
   "metadata": {},
   "outputs": [
    {
     "output_type": "stream",
     "name": "stdout",
     "text": [
      "<class 'pandas.core.frame.DataFrame'>\nRangeIndex: 78477 entries, 0 to 78476\nData columns (total 7 columns):\n #   Column  Non-Null Count  Dtype \n---  ------  --------------  ----- \n 0   dep     78477 non-null  object\n 1   sexe    78477 non-null  int64 \n 2   jour    78477 non-null  object\n 3   hosp    78477 non-null  int64 \n 4   rea     78477 non-null  int64 \n 5   rad     78477 non-null  int64 \n 6   dc      78477 non-null  int64 \ndtypes: int64(5), object(2)\nmemory usage: 4.2+ MB\n"
     ]
    }
   ],
   "source": [
    "# Description générale du dataset\n",
    "cov.info()"
   ]
  },
  {
   "cell_type": "code",
   "execution_count": 5,
   "metadata": {},
   "outputs": [
    {
     "output_type": "execute_result",
     "data": {
      "text/plain": [
       "       dep  sexe        jour  hosp  rea  rad  dc\n",
       "78472  974     1  2020-12-01    33    4  317  23\n",
       "78473  974     2  2020-12-01    35    7  315  26\n",
       "78474  976     0  2020-12-01     9    2  515  35\n",
       "78475  976     1  2020-12-01     6    1  249  21\n",
       "78476  976     2  2020-12-01     3    1  260  14"
      ],
      "text/html": "<div>\n<style scoped>\n    .dataframe tbody tr th:only-of-type {\n        vertical-align: middle;\n    }\n\n    .dataframe tbody tr th {\n        vertical-align: top;\n    }\n\n    .dataframe thead th {\n        text-align: right;\n    }\n</style>\n<table border=\"1\" class=\"dataframe\">\n  <thead>\n    <tr style=\"text-align: right;\">\n      <th></th>\n      <th>dep</th>\n      <th>sexe</th>\n      <th>jour</th>\n      <th>hosp</th>\n      <th>rea</th>\n      <th>rad</th>\n      <th>dc</th>\n    </tr>\n  </thead>\n  <tbody>\n    <tr>\n      <th>78472</th>\n      <td>974</td>\n      <td>1</td>\n      <td>2020-12-01</td>\n      <td>33</td>\n      <td>4</td>\n      <td>317</td>\n      <td>23</td>\n    </tr>\n    <tr>\n      <th>78473</th>\n      <td>974</td>\n      <td>2</td>\n      <td>2020-12-01</td>\n      <td>35</td>\n      <td>7</td>\n      <td>315</td>\n      <td>26</td>\n    </tr>\n    <tr>\n      <th>78474</th>\n      <td>976</td>\n      <td>0</td>\n      <td>2020-12-01</td>\n      <td>9</td>\n      <td>2</td>\n      <td>515</td>\n      <td>35</td>\n    </tr>\n    <tr>\n      <th>78475</th>\n      <td>976</td>\n      <td>1</td>\n      <td>2020-12-01</td>\n      <td>6</td>\n      <td>1</td>\n      <td>249</td>\n      <td>21</td>\n    </tr>\n    <tr>\n      <th>78476</th>\n      <td>976</td>\n      <td>2</td>\n      <td>2020-12-01</td>\n      <td>3</td>\n      <td>1</td>\n      <td>260</td>\n      <td>14</td>\n    </tr>\n  </tbody>\n</table>\n</div>"
     },
     "metadata": {},
     "execution_count": 5
    }
   ],
   "source": [
    "# Affichage des dernières lignes\n",
    "cov.tail()"
   ]
  },
  {
   "source": [
    "Informations sur les colonnes :\n",
    "\n",
    "dep = Département (type 'str' et non 'int' car dep. Corse = 2A et 2B)\n",
    "\n",
    "sexe = 0 : h/f | 1 : h | 2 : f\n",
    "\n",
    "jour = Date de notification\n",
    "\n",
    "hosp = Nombre d'hospitalisations\n",
    "\n",
    "rea = Nombre de patients en réanimation\n",
    "\n",
    "rad = Nombre de personnes retournées à domicile\n",
    "\n",
    "dc = Nombre de décès en milieu hospitalier"
   ],
   "cell_type": "markdown",
   "metadata": {}
  },
  {
   "source": [
    "## Exploration des nouvelles données hospitalières\n",
    "(covn.csv)"
   ],
   "cell_type": "markdown",
   "metadata": {}
  },
  {
   "cell_type": "code",
   "execution_count": 8,
   "metadata": {},
   "outputs": [],
   "source": [
    "covn = pd.read_csv(\"covn.csv\", sep=\";\")"
   ]
  },
  {
   "cell_type": "code",
   "execution_count": 9,
   "metadata": {},
   "outputs": [
    {
     "output_type": "execute_result",
     "data": {
      "text/plain": [
       "(26058, 6)"
      ]
     },
     "metadata": {},
     "execution_count": 9
    }
   ],
   "source": [
    "covn.shape"
   ]
  },
  {
   "cell_type": "code",
   "execution_count": 11,
   "metadata": {},
   "outputs": [
    {
     "output_type": "stream",
     "name": "stdout",
     "text": [
      "<class 'pandas.core.frame.DataFrame'>\nRangeIndex: 26058 entries, 0 to 26057\nData columns (total 6 columns):\n #   Column      Non-Null Count  Dtype \n---  ------      --------------  ----- \n 0   dep         26058 non-null  object\n 1   jour        26058 non-null  object\n 2   incid_hosp  26058 non-null  int64 \n 3   incid_rea   26058 non-null  int64 \n 4   incid_dc    26058 non-null  int64 \n 5   incid_rad   26058 non-null  int64 \ndtypes: int64(4), object(2)\nmemory usage: 1.2+ MB\n"
     ]
    }
   ],
   "source": [
    "covn.info()"
   ]
  },
  {
   "cell_type": "code",
   "execution_count": 10,
   "metadata": {},
   "outputs": [
    {
     "output_type": "execute_result",
     "data": {
      "text/plain": [
       "       dep        jour  incid_hosp  incid_rea  incid_dc  incid_rad\n",
       "26053  976  2020-11-27           2          1         0          2\n",
       "26054  976  2020-11-28           0          0         0          2\n",
       "26055  976  2020-11-29           0          0         0          0\n",
       "26056  976  2020-11-30           2          0         0          1\n",
       "26057  976  2020-12-01           1          0         0          1"
      ],
      "text/html": "<div>\n<style scoped>\n    .dataframe tbody tr th:only-of-type {\n        vertical-align: middle;\n    }\n\n    .dataframe tbody tr th {\n        vertical-align: top;\n    }\n\n    .dataframe thead th {\n        text-align: right;\n    }\n</style>\n<table border=\"1\" class=\"dataframe\">\n  <thead>\n    <tr style=\"text-align: right;\">\n      <th></th>\n      <th>dep</th>\n      <th>jour</th>\n      <th>incid_hosp</th>\n      <th>incid_rea</th>\n      <th>incid_dc</th>\n      <th>incid_rad</th>\n    </tr>\n  </thead>\n  <tbody>\n    <tr>\n      <th>26053</th>\n      <td>976</td>\n      <td>2020-11-27</td>\n      <td>2</td>\n      <td>1</td>\n      <td>0</td>\n      <td>2</td>\n    </tr>\n    <tr>\n      <th>26054</th>\n      <td>976</td>\n      <td>2020-11-28</td>\n      <td>0</td>\n      <td>0</td>\n      <td>0</td>\n      <td>2</td>\n    </tr>\n    <tr>\n      <th>26055</th>\n      <td>976</td>\n      <td>2020-11-29</td>\n      <td>0</td>\n      <td>0</td>\n      <td>0</td>\n      <td>0</td>\n    </tr>\n    <tr>\n      <th>26056</th>\n      <td>976</td>\n      <td>2020-11-30</td>\n      <td>2</td>\n      <td>0</td>\n      <td>0</td>\n      <td>1</td>\n    </tr>\n    <tr>\n      <th>26057</th>\n      <td>976</td>\n      <td>2020-12-01</td>\n      <td>1</td>\n      <td>0</td>\n      <td>0</td>\n      <td>1</td>\n    </tr>\n  </tbody>\n</table>\n</div>"
     },
     "metadata": {},
     "execution_count": 10
    }
   ],
   "source": [
    "covn.tail()"
   ]
  },
  {
   "source": [
    "Informations sur les colonnes :\n",
    "\n",
    "dep = département (type 'str' et non 'int' car dep. Corse = 2A et 2B)\n",
    "\n",
    "jour = Date de notification\n",
    "\n",
    "incid_hosp = Nombre quotidien de personnes nouvellement hospitalisées\n",
    "\n",
    "incid_rea = Nombre quotidien de nouvelles admissions en réanimation\n",
    "\n",
    "incid_dc = Nombre quotidien de personnes nouvellement décédées\n",
    "\n",
    "incid_rad = Nombre quotidien de nouveaux retours à domicile"
   ],
   "cell_type": "markdown",
   "metadata": {}
  },
  {
   "source": [
    "## Données hospitalières par classe d'âge\n",
    "(cova.csv)"
   ],
   "cell_type": "markdown",
   "metadata": {}
  },
  {
   "cell_type": "code",
   "execution_count": 12,
   "metadata": {},
   "outputs": [],
   "source": [
    "cova = pd.read_csv(\"cova.csv\", sep=\";\")"
   ]
  },
  {
   "cell_type": "code",
   "execution_count": 13,
   "metadata": {},
   "outputs": [
    {
     "output_type": "execute_result",
     "data": {
      "text/plain": [
       "(51282, 7)"
      ]
     },
     "metadata": {},
     "execution_count": 13
    }
   ],
   "source": [
    "cova.shape"
   ]
  },
  {
   "cell_type": "code",
   "execution_count": 14,
   "metadata": {},
   "outputs": [
    {
     "output_type": "stream",
     "name": "stdout",
     "text": [
      "<class 'pandas.core.frame.DataFrame'>\nRangeIndex: 51282 entries, 0 to 51281\nData columns (total 7 columns):\n #   Column    Non-Null Count  Dtype \n---  ------    --------------  ----- \n 0   reg       51282 non-null  int64 \n 1   cl_age90  51282 non-null  int64 \n 2   jour      51282 non-null  object\n 3   hosp      51282 non-null  int64 \n 4   rea       51282 non-null  int64 \n 5   rad       51282 non-null  int64 \n 6   dc        51282 non-null  int64 \ndtypes: int64(6), object(1)\nmemory usage: 2.7+ MB\n"
     ]
    }
   ],
   "source": [
    "cova.info()"
   ]
  },
  {
   "cell_type": "code",
   "execution_count": 15,
   "metadata": {},
   "outputs": [
    {
     "output_type": "execute_result",
     "data": {
      "text/plain": [
       "       reg  cl_age90        jour  hosp  rea  rad  dc\n",
       "51277   94        59  2020-12-01     3    1   75   5\n",
       "51278   94        69  2020-12-01    12    4   80  10\n",
       "51279   94        79  2020-12-01     8    0  104  27\n",
       "51280   94        89  2020-12-01    12    0   85  47\n",
       "51281   94        90  2020-12-01     5    0   27  19"
      ],
      "text/html": "<div>\n<style scoped>\n    .dataframe tbody tr th:only-of-type {\n        vertical-align: middle;\n    }\n\n    .dataframe tbody tr th {\n        vertical-align: top;\n    }\n\n    .dataframe thead th {\n        text-align: right;\n    }\n</style>\n<table border=\"1\" class=\"dataframe\">\n  <thead>\n    <tr style=\"text-align: right;\">\n      <th></th>\n      <th>reg</th>\n      <th>cl_age90</th>\n      <th>jour</th>\n      <th>hosp</th>\n      <th>rea</th>\n      <th>rad</th>\n      <th>dc</th>\n    </tr>\n  </thead>\n  <tbody>\n    <tr>\n      <th>51277</th>\n      <td>94</td>\n      <td>59</td>\n      <td>2020-12-01</td>\n      <td>3</td>\n      <td>1</td>\n      <td>75</td>\n      <td>5</td>\n    </tr>\n    <tr>\n      <th>51278</th>\n      <td>94</td>\n      <td>69</td>\n      <td>2020-12-01</td>\n      <td>12</td>\n      <td>4</td>\n      <td>80</td>\n      <td>10</td>\n    </tr>\n    <tr>\n      <th>51279</th>\n      <td>94</td>\n      <td>79</td>\n      <td>2020-12-01</td>\n      <td>8</td>\n      <td>0</td>\n      <td>104</td>\n      <td>27</td>\n    </tr>\n    <tr>\n      <th>51280</th>\n      <td>94</td>\n      <td>89</td>\n      <td>2020-12-01</td>\n      <td>12</td>\n      <td>0</td>\n      <td>85</td>\n      <td>47</td>\n    </tr>\n    <tr>\n      <th>51281</th>\n      <td>94</td>\n      <td>90</td>\n      <td>2020-12-01</td>\n      <td>5</td>\n      <td>0</td>\n      <td>27</td>\n      <td>19</td>\n    </tr>\n  </tbody>\n</table>\n</div>"
     },
     "metadata": {},
     "execution_count": 15
    }
   ],
   "source": [
    "cova.tail()"
   ]
  },
  {
   "cell_type": "code",
   "execution_count": 16,
   "metadata": {},
   "outputs": [
    {
     "output_type": "execute_result",
     "data": {
      "text/plain": [
       "array([ 0,  9, 19, 29, 39, 49, 59, 69, 79, 89, 90], dtype=int64)"
      ]
     },
     "metadata": {},
     "execution_count": 16
    }
   ],
   "source": [
    "# Valeurs uniques de classe d'âge\n",
    "cova['cl_age90'].unique()"
   ]
  },
  {
   "source": [
    "Informations sur les colonnes :\n",
    "\n",
    "reg = Région départementale\n",
    "\n",
    "cl_age90 :\n",
    "\n",
    "0 = Toutes classes d'âge confondues\n",
    "\n",
    "9 = 0-9 ans\n",
    "\n",
    "19 = 10-19 ans\n",
    "\n",
    "29 = 20-29 ans\n",
    "\n",
    "39 = 30-39 ans\n",
    "\n",
    "49 = 40-49 ans\n",
    "\n",
    "59 = 50-59 ans\n",
    "\n",
    "69 = 60-69 ans\n",
    "\n",
    "79 = 70-79 ans\n",
    "\n",
    "89 = 80-89 ans\n",
    "\n",
    "90 = 90+ ans\n",
    "\n",
    "jour = Date de notification\n",
    "\n",
    "hosp = Nombre de personnes actuellement hospitalisées\n",
    "\n",
    "rea = Nombre de personnes actuellement en réanimation ou soins intensifs\n",
    "\n",
    "rad = Nombre cumulé de personnes retournées à domicile\n",
    "\n",
    "dc = Nombre cumulé de personnes décédées"
   ],
   "cell_type": "markdown",
   "metadata": {}
  },
  {
   "source": [
    "## Données de dépistage"
   ],
   "cell_type": "markdown",
   "metadata": {}
  },
  {
   "cell_type": "code",
   "execution_count": 17,
   "metadata": {},
   "outputs": [],
   "source": [
    "covd = pd.read_csv(\"covd.csv\", sep=\";\")"
   ]
  },
  {
   "cell_type": "code",
   "execution_count": 19,
   "metadata": {},
   "outputs": [
    {
     "output_type": "execute_result",
     "data": {
      "text/plain": [
       "(228800, 5)"
      ]
     },
     "metadata": {},
     "execution_count": 19
    }
   ],
   "source": [
    "covd.shape"
   ]
  },
  {
   "cell_type": "code",
   "execution_count": 20,
   "metadata": {},
   "outputs": [
    {
     "output_type": "stream",
     "name": "stdout",
     "text": [
      "<class 'pandas.core.frame.DataFrame'>\nRangeIndex: 228800 entries, 0 to 228799\nData columns (total 5 columns):\n #   Column    Non-Null Count   Dtype \n---  ------    --------------   ----- \n 0   dep       228800 non-null  object\n 1   jour      228800 non-null  object\n 2   P         228800 non-null  int64 \n 3   T         228800 non-null  int64 \n 4   cl_age90  228800 non-null  int64 \ndtypes: int64(3), object(2)\nmemory usage: 8.7+ MB\n"
     ]
    }
   ],
   "source": [
    "covd.info()"
   ]
  },
  {
   "cell_type": "code",
   "execution_count": 21,
   "metadata": {},
   "outputs": [
    {
     "output_type": "execute_result",
     "data": {
      "text/plain": [
       "        dep        jour  P   T  cl_age90\n",
       "228795  978  2020-11-28  0   0        69\n",
       "228796  978  2020-11-28  0   0        79\n",
       "228797  978  2020-11-28  0   0        89\n",
       "228798  978  2020-11-28  0   0        90\n",
       "228799  978  2020-11-28  1  10         0"
      ],
      "text/html": "<div>\n<style scoped>\n    .dataframe tbody tr th:only-of-type {\n        vertical-align: middle;\n    }\n\n    .dataframe tbody tr th {\n        vertical-align: top;\n    }\n\n    .dataframe thead th {\n        text-align: right;\n    }\n</style>\n<table border=\"1\" class=\"dataframe\">\n  <thead>\n    <tr style=\"text-align: right;\">\n      <th></th>\n      <th>dep</th>\n      <th>jour</th>\n      <th>P</th>\n      <th>T</th>\n      <th>cl_age90</th>\n    </tr>\n  </thead>\n  <tbody>\n    <tr>\n      <th>228795</th>\n      <td>978</td>\n      <td>2020-11-28</td>\n      <td>0</td>\n      <td>0</td>\n      <td>69</td>\n    </tr>\n    <tr>\n      <th>228796</th>\n      <td>978</td>\n      <td>2020-11-28</td>\n      <td>0</td>\n      <td>0</td>\n      <td>79</td>\n    </tr>\n    <tr>\n      <th>228797</th>\n      <td>978</td>\n      <td>2020-11-28</td>\n      <td>0</td>\n      <td>0</td>\n      <td>89</td>\n    </tr>\n    <tr>\n      <th>228798</th>\n      <td>978</td>\n      <td>2020-11-28</td>\n      <td>0</td>\n      <td>0</td>\n      <td>90</td>\n    </tr>\n    <tr>\n      <th>228799</th>\n      <td>978</td>\n      <td>2020-11-28</td>\n      <td>1</td>\n      <td>10</td>\n      <td>0</td>\n    </tr>\n  </tbody>\n</table>\n</div>"
     },
     "metadata": {},
     "execution_count": 21
    }
   ],
   "source": [
    "covd.tail()"
   ]
  },
  {
   "source": [
    "Informations sur les colonnes :\n",
    "\n",
    "dep = Département\n",
    "\n",
    "jour = Date de notification\n",
    "\n",
    "P = Nombre de tests positifs\n",
    "\n",
    "T = Nombre total de tests\n",
    "\n",
    "cl_age90 :\n",
    "\n",
    "0 = Toutes classes d'âge confondues\n",
    "\n",
    "9 = 0-9 ans\n",
    "\n",
    "19 = 10-19 ans\n",
    "\n",
    "29 = 20-29 ans\n",
    "\n",
    "39 = 30-39 ans\n",
    "\n",
    "49 = 40-49 ans\n",
    "\n",
    "59 = 50-59 ans\n",
    "\n",
    "69 = 60-69 ans\n",
    "\n",
    "79 = 70-79 ans\n",
    "\n",
    "89 = 80-89 ans\n",
    "\n",
    "90 = 90+ ans"
   ],
   "cell_type": "markdown",
   "metadata": {}
  }
 ]
}